{
 "cells": [
  {
   "cell_type": "markdown",
   "metadata": {},
   "source": [
    "## Tutorial - Dynamical Methods for Target Control of Biological Networks"
   ]
  },
  {
   "cell_type": "code",
   "execution_count": 1,
   "metadata": {},
   "outputs": [],
   "source": [
    "#matplotlib\n",
    "%load_ext autoreload\n",
    "%autoreload 2\n",
    "%matplotlib inline"
   ]
  },
  {
   "cell_type": "code",
   "execution_count": 2,
   "metadata": {},
   "outputs": [],
   "source": [
    "#import basic modules\n",
    "import time\n",
    "import matplotlib.pyplot as plt"
   ]
  },
  {
   "cell_type": "code",
   "execution_count": 3,
   "metadata": {},
   "outputs": [],
   "source": [
    "#copy CANA datasets into this directory if the package fails to install (package requires Microsoft Visual C++)\n",
    "#import cana\n",
    "from cana.boolean_network import *"
   ]
  },
  {
   "cell_type": "code",
   "execution_count": 4,
   "metadata": {},
   "outputs": [],
   "source": [
    "#import scripts\n",
    "from utils import *\n",
    "from modules import *\n",
    "from mean_field_computations import *\n",
    "from brute_force_computations import *\n",
    "from simulations import *\n",
    "from gtn_construction import *"
   ]
  },
  {
   "cell_type": "markdown",
   "metadata": {},
   "source": [
    "#### Create a Generalized Threshold Network (GTN)"
   ]
  },
  {
   "cell_type": "code",
   "execution_count": 5,
   "metadata": {},
   "outputs": [
    {
     "data": {
      "text/plain": [
       "17"
      ]
     },
     "execution_count": 5,
     "metadata": {},
     "output_type": "execute_result"
    }
   ],
   "source": [
    "#IF A BOOLEAN EXPRESSION FILE ALREADY EXISTS\n",
    "mypath=\"data_examples\\\\\"\n",
    "n=BooleanNetwork.from_file(mypath+\"drosophila_single_cell.txt\",file_type='logical') #create a BooleanNetwork object\n",
    "len(n.nodes)"
   ]
  },
  {
   "cell_type": "code",
   "execution_count": 6,
   "metadata": {},
   "outputs": [
    {
     "data": {
      "text/plain": [
       "(114, 89, 56)"
      ]
     },
     "execution_count": 6,
     "metadata": {},
     "output_type": "execute_result"
    }
   ],
   "source": [
    "#LUT-type GTN\n",
    "ltn1=create_threshold_network_LUTs(n)\n",
    "#DNF-type GTN\n",
    "dtn1=create_threshold_network_dnf(n,mypath+\"drosophila_single_cell.txt\")\n",
    "#SR-type GTN\n",
    "dcm = n.dynamics_canalization_map(output=None, )\n",
    "stn1 = create_threshold_network(dcm)\n",
    "len(ltn1),len(dtn1),len(stn1)"
   ]
  },
  {
   "cell_type": "code",
   "execution_count": 7,
   "metadata": {
    "scrolled": true
   },
   "outputs": [
    {
     "name": "stdout",
     "output_type": "stream",
     "text": [
      "SLP*=SLP\n",
      "Positive: SLP\n",
      "Negative: ~SLP\n",
      "\n",
      "nWG*=nWG\n",
      "Positive: nWG\n",
      "Negative: ~nWG\n",
      "\n",
      "nhhnHH*=nhhnHH\n",
      "Positive: nhhnHH\n",
      "Negative: ~nhhnHH\n",
      "\n",
      "wg*=(CIA and SLP and not CIR) or (wg and (CIA or SLP) and not CIR)\n",
      "Positive: (wg & SLP & ~CIR) | (wg & CIA & ~CIR) | (SLP & CIA & ~CIR)\n",
      "Negative: CIR | (CIR & ~wg) | (CIR & ~SLP) | (CIR & ~CIA) | (~wg & ~SLP) | (~wg & ~CIA) | (~SLP & ~CIA) | (CIR & ~SLP & ~CIA)\n",
      "\n",
      "WG*=wg\n",
      "Positive: wg\n",
      "Negative: ~wg\n",
      "\n",
      "en*=nWG and not SLP\n",
      "Positive: nWG & ~SLP\n",
      "Negative: SLP | ~nWG\n",
      "\n",
      "EN*=en\n",
      "Positive: en\n",
      "Negative: ~en\n",
      "\n",
      "hh*=EN and not CIR\n",
      "Positive: EN & ~CIR\n",
      "Negative: CIR | ~EN\n",
      "\n",
      "HH*=hh\n",
      "Positive: hh\n",
      "Negative: ~hh\n",
      "\n",
      "ptc*=CIA and not EN and not CIR\n",
      "Positive: CIA & ~EN & ~CIR\n",
      "Negative: EN | CIR | ~CIA\n",
      "\n",
      "PTC*=ptc or (PTC and not nhhnHH)\n",
      "Positive: ptc | (PTC & ~nhhnHH)\n",
      "Negative: (nhhnHH & ~ptc) | (~ptc & ~PTC)\n",
      "\n",
      "PH*=PTC and nhhnHH\n",
      "Positive: nhhnHH & PTC\n",
      "Negative: ~nhhnHH | ~PTC\n",
      "\n",
      "SMO*=not PTC or nhhnHH\n",
      "Positive: nhhnHH | ~PTC\n",
      "Negative: PTC & ~nhhnHH\n",
      "\n",
      "ci*=not EN\n",
      "Positive: ~EN\n",
      "Negative: EN\n",
      "\n",
      "CI*=ci\n",
      "Positive: ci\n",
      "Negative: ~ci\n",
      "\n",
      "CIA*=CI and (not PTC or nhhnHH)\n",
      "Positive: (nhhnHH & CI) | (CI & ~PTC)\n",
      "Negative: ~CI | (PTC & ~nhhnHH)\n",
      "\n",
      "CIR*=CI and PTC and not nhhnHH\n",
      "Positive: PTC & CI & ~nhhnHH\n",
      "Negative: nhhnHH | ~PTC | ~CI\n",
      "\n"
     ]
    },
    {
     "data": {
      "text/plain": [
       "{'CI': ('ci', '~ci'),\n",
       " 'CIA': ('(nhhnHH & CI) | (CI & ~PTC)', '~CI | (PTC & ~nhhnHH)'),\n",
       " 'CIR': ('PTC & CI & ~nhhnHH', 'nhhnHH | ~PTC | ~CI'),\n",
       " 'EN': ('en', '~en'),\n",
       " 'HH': ('hh', '~hh'),\n",
       " 'PH': ('nhhnHH & PTC', '~nhhnHH | ~PTC'),\n",
       " 'PTC': ('ptc | (PTC & ~nhhnHH)', '(nhhnHH & ~ptc) | (~ptc & ~PTC)'),\n",
       " 'SLP': ('SLP', '~SLP'),\n",
       " 'SMO': ('nhhnHH | ~PTC', 'PTC & ~nhhnHH'),\n",
       " 'WG': ('wg', '~wg'),\n",
       " 'ci': ('~EN', 'EN'),\n",
       " 'en': ('nWG & ~SLP', 'SLP | ~nWG'),\n",
       " 'hh': ('EN & ~CIR', 'CIR | ~EN'),\n",
       " 'nWG': ('nWG', '~nWG'),\n",
       " 'nhhnHH': ('nhhnHH', '~nhhnHH'),\n",
       " 'ptc': ('CIA & ~EN & ~CIR', 'EN | CIR | ~CIA'),\n",
       " 'wg': ('(wg & SLP & ~CIR) | (wg & CIA & ~CIR) | (SLP & CIA & ~CIR)',\n",
       "  'CIR | (CIR & ~wg) | (CIR & ~SLP) | (CIR & ~CIA) | (~wg & ~SLP) | (~wg & ~CIA) | (~SLP & ~CIA) | (CIR & ~SLP & ~CIA)')}"
      ]
     },
     "execution_count": 7,
     "metadata": {},
     "output_type": "execute_result"
    }
   ],
   "source": [
    "#to visualize DNF expressions from a logical file\n",
    "with open(\"drosophila_single_cell.txt\") as f:\n",
    "    lines=f.readlines()\n",
    "nodes=[line.split('*=')[0] for line in lines if line[0]!='#']\n",
    "for line in lines:\n",
    "    if line[0]!='#':\n",
    "        print(line.strip())\n",
    "        expr,nexpr=convert_dnf(line.strip(),nodes)\n",
    "        print('\\n'.join(['Positive: '+expr,'Negative: '+nexpr,'']))\n",
    "file_to_dnf(\"drosophila_single_cell.txt\") #alternatively use this function for a less verbose presentation"
   ]
  },
  {
   "cell_type": "code",
   "execution_count": 8,
   "metadata": {},
   "outputs": [
    {
     "name": "stdout",
     "output_type": "stream",
     "text": [
      "SLP*=(SLP)\n",
      "nWG*=(nWG)\n",
      "nhhnHH*=(nhhnHH)\n",
      "wg*=(not SLP and wg and CIA and not CIR) or (SLP and not wg and CIA and not CIR) or (SLP and wg and not CIA and not CIR) or (SLP and wg and CIA and not CIR)\n",
      "WG*=(wg)\n",
      "en*=(not SLP and nWG)\n",
      "EN*=(en)\n",
      "hh*=(EN and not CIR)\n",
      "HH*=(hh)\n",
      "ptc*=(not EN and CIA and not CIR)\n",
      "PTC*=(not nhhnHH and not ptc and PTC) or (not nhhnHH and ptc and not PTC) or (not nhhnHH and ptc and PTC) or (nhhnHH and ptc and not PTC) or (nhhnHH and ptc and PTC)\n",
      "PH*=(nhhnHH and PTC)\n",
      "SMO*=(not nhhnHH and not PTC) or (nhhnHH and not PTC) or (nhhnHH and PTC)\n",
      "ci*=(not EN)\n",
      "CI*=(ci)\n",
      "CIA*=(not nhhnHH and not PTC and CI) or (nhhnHH and not PTC and CI) or (nhhnHH and PTC and CI)\n",
      "CIR*=(not nhhnHH and PTC and CI)\n"
     ]
    }
   ],
   "source": [
    "#to visualize DNF expressions from a look-up table\n",
    "for node in n.nodes:\n",
    "    print(expr_from_LUT(node))"
   ]
  },
  {
   "cell_type": "code",
   "execution_count": 9,
   "metadata": {},
   "outputs": [
    {
     "data": {
      "text/plain": [
       "22"
      ]
     },
     "execution_count": 9,
     "metadata": {},
     "output_type": "execute_result"
    }
   ],
   "source": [
    "#IF A BOOLEAN EXPRESSION FILE DOES NOT EXIST\n",
    "#NOTE: uses the cnet version of a network\n",
    "mypath=\"data_examples\\\\\"\n",
    "name=\"B cell differentiation\"\n",
    "n2=BooleanNetwork.from_file(mypath+name+\"\\\\\"+name+\".txt\") #create a BooleanNetwork object\n",
    "n.name=name #give the network a name\n",
    "len(n2.nodes)"
   ]
  },
  {
   "cell_type": "code",
   "execution_count": 10,
   "metadata": {},
   "outputs": [],
   "source": [
    "#DNF version uses files from the Cell Collective\n",
    "#NOTE: this creates a Boolean expression file using modified node names that replace illegal characters\n",
    "name=\"B cell differentiation\"\n",
    "filename,external_file=mypath+name+\"\\\\expressions.ALL.txt\",mypath+name+\"\\\\external_components.ALL.txt\"\n",
    "write_file=mypath+name+\"_ascii.txt\"\n",
    "lines=expressions_to_boolean_text_ascii(filename,external_file=external_file,write_file=write_file)"
   ]
  },
  {
   "cell_type": "code",
   "execution_count": 11,
   "metadata": {},
   "outputs": [
    {
     "data": {
      "text/plain": [
       "(322, 204, 71)"
      ]
     },
     "execution_count": 11,
     "metadata": {},
     "output_type": "execute_result"
    }
   ],
   "source": [
    "#LUT-type GTN\n",
    "ltn2=create_threshold_network_LUTs(n2)\n",
    "\n",
    "#DNF-type GTN (NOTE: requires modified network if there are illegal characters!)\n",
    "n2_ascii=BooleanNetwork.from_file(mypath+name+\"_ascii.txt\",file_type='logical')\n",
    "dtn2=create_threshold_network_dnf(n2_ascii,mypath+name+\"_ascii.txt\")\n",
    "#NOTE: at this point the DNF GTN may have different node names if illegal characters were involved\n",
    "\n",
    "#SR-type GTN\n",
    "dcm = n2.dynamics_canalization_map(output=None, )\n",
    "stn2 = create_threshold_network(dcm)\n",
    "len(ltn2),len(dtn2),len(stn2)"
   ]
  },
  {
   "cell_type": "code",
   "execution_count": 12,
   "metadata": {},
   "outputs": [
    {
     "data": {
      "text/plain": [
       "110"
      ]
     },
     "execution_count": 12,
     "metadata": {},
     "output_type": "execute_result"
    }
   ],
   "source": [
    "#find DNF of prime implicants (currently works only with logical file formats)\n",
    "ptn2=create_threshold_network_dnf(n2_ascii,mypath+name+\"_ascii.txt\",pi=True)\n",
    "len(ptn2)"
   ]
  },
  {
   "cell_type": "markdown",
   "metadata": {},
   "source": [
    "#### Find Domain of Influence (DOI)"
   ]
  },
  {
   "cell_type": "code",
   "execution_count": 13,
   "metadata": {},
   "outputs": [
    {
     "data": {
      "text/plain": [
       "{0: {'en-1'},\n",
       " 1: {'EN-1'},\n",
       " 2: {'ci-0', 'ptc-0'},\n",
       " 3: {'CI-0'},\n",
       " 4: {'CIA-0', 'CIR-0'},\n",
       " 5: {'hh-1'},\n",
       " 6: {'HH-1'}}"
      ]
     },
     "execution_count": 13,
     "metadata": {},
     "output_type": "execute_result"
    }
   ],
   "source": [
    "#run breadth-first search on drosophila DNF-type GTN from node en (state=1)\n",
    "seed=['en-1'] #can use multiple nodes as a seed, e.g., ['en-1','CIR-1']\n",
    "bfs=BFS_threshold(dtn1,seed,conversion=False)\n",
    "reduce_module(bfs) #gets rid of threshold nodes"
   ]
  },
  {
   "cell_type": "code",
   "execution_count": 14,
   "metadata": {},
   "outputs": [
    {
     "name": "stdout",
     "output_type": "stream",
     "text": [
      "Domain of Influence of ['en-1']:\n",
      "['hh-1', 'CIR-0', 'HH-1', 'CIA-0', 'CI-0', 'ptc-0', 'ci-0', 'en-1', 'EN-1']\n",
      "Size: 9\n"
     ]
    }
   ],
   "source": [
    "print(\"Domain of Influence of \"+str(list(seed))+\":\")\n",
    "doi=extract_sunits(bfs)\n",
    "print(list(doi))\n",
    "print(\"Size: \"+str(len(doi)))"
   ]
  },
  {
   "cell_type": "code",
   "execution_count": 15,
   "metadata": {
    "scrolled": true
   },
   "outputs": [
    {
     "name": "stdout",
     "output_type": "stream",
     "text": [
      "34\n",
      "{0: set(['hh-0']), 1: set(['HH-0'])}\n",
      "{0: set(['CI-1'])}\n",
      "{0: set(['SMO-1'])}\n",
      "{0: set(['wg-0']), 1: set(['WG-0'])}\n",
      "{0: set(['ptc-0'])}\n",
      "{0: set(['en-1']), 1: set(['EN-1']), 2: set(['ci-0', 'ptc-0']), 3: set(['CI-0']), 4: set(['CIR-0', 'CIA-0']), 5: set(['hh-1']), 6: set(['HH-1'])}\n",
      "{0: set(['EN-1']), 1: set(['ci-0', 'ptc-0']), 2: set(['CI-0']), 3: set(['CIR-0', 'CIA-0']), 4: set(['hh-1']), 5: set(['HH-1'])}\n",
      "{0: set(['hh-1']), 1: set(['HH-1'])}\n",
      "{0: set(['nWG-1'])}\n",
      "{0: set(['CIA-1'])}\n",
      "{0: set(['WG-1'])}\n",
      "{0: set(['nWG-0']), 1: set(['en-0']), 2: set(['EN-0']), 3: set(['ci-1', 'hh-0']), 4: set(['CI-1', 'HH-0'])}\n",
      "{0: set(['SLP-0'])}\n",
      "{0: set(['PTC-0']), 1: set(['SMO-1', 'PH-0', 'CIR-0'])}\n",
      "{0: set(['CI-0']), 1: set(['CIR-0', 'CIA-0']), 2: set(['ptc-0'])}\n",
      "{0: set(['nhhnHH-0']), 1: set(['PH-0'])}\n",
      "{0: set(['en-0']), 1: set(['EN-0']), 2: set(['ci-1', 'hh-0']), 3: set(['CI-1', 'HH-0'])}\n",
      "{0: set(['PTC-1'])}\n",
      "{0: set(['CIR-1']), 1: set(['hh-0', 'wg-0', 'ptc-0']), 2: set(['HH-0', 'WG-0'])}\n",
      "{0: set(['HH-0'])}\n",
      "{0: set(['ci-1']), 1: set(['CI-1'])}\n",
      "{0: set(['SLP-1']), 1: set(['en-0']), 2: set(['EN-0']), 3: set(['ci-1', 'hh-0']), 4: set(['CI-1', 'HH-0'])}\n",
      "{0: set(['ptc-1']), 1: set(['PTC-1'])}\n",
      "{0: set(['nhhnHH-1']), 1: set(['SMO-1', 'CIR-0'])}\n",
      "{0: set(['CIA-0']), 1: set(['ptc-0'])}\n",
      "{0: set(['HH-1'])}\n",
      "{0: set(['PH-0'])}\n",
      "{0: set(['SMO-0'])}\n",
      "{0: set(['EN-0']), 1: set(['ci-1', 'hh-0']), 2: set(['CI-1', 'HH-0'])}\n",
      "{0: set(['wg-1']), 1: set(['WG-1'])}\n",
      "{0: set(['CIR-0'])}\n",
      "{0: set(['WG-0'])}\n",
      "{0: set(['PH-1'])}\n",
      "{0: set(['ci-0']), 1: set(['CI-0']), 2: set(['CIR-0', 'CIA-0']), 3: set(['ptc-0'])}\n"
     ]
    }
   ],
   "source": [
    "#run BFS for seeds of size 1; all state nodes found are part of the DOI\n",
    "#NOTE: nu holds the BFS results, sizes holds the sizes of all DOIs found; seeds=None will find all possible combinations\n",
    "nu,tm,sizes,c=find_dynamic_modules(dtn1,num=1,seeds=None,tm=False,conversion=False)\n",
    "print(len(nu)) #number of seeds/DOIs found\n",
    "for seed in nu: \n",
    "    print(nu[seed]) #NOTE: timestep 0 is equivalent to the seed set"
   ]
  },
  {
   "cell_type": "code",
   "execution_count": 16,
   "metadata": {
    "scrolled": false
   },
   "outputs": [
    {
     "name": "stdout",
     "output_type": "stream",
     "text": [
      "1\n",
      "LUT GTN average time per seed set: 8.8235911201e-05\n",
      "DNF GTN average time per seed set: 0.000117645544164\n",
      "SR GTN average time per seed set: 8.8235911201e-05\n",
      "num seed sets: 34\n",
      "2\n",
      "LUT GTN average time per seed set: 0.000104779268012\n",
      "DNF GTN average time per seed set: 0.000130514888202\n",
      "SR GTN average time per seed set: 0.000110294450732\n",
      "num seed sets: 544\n",
      "3\n",
      "LUT GTN average time per seed set: 0.000128000020981\n",
      "DNF GTN average time per seed set: 0.000164999961853\n",
      "SR GTN average time per seed set: 0.000131000041962\n",
      "num seed sets: 1000\n"
     ]
    },
    {
     "data": {
      "text/plain": [
       "(1578, 1578, 1578)"
      ]
     },
     "execution_count": 16,
     "metadata": {},
     "output_type": "execute_result"
    }
   ],
   "source": [
    "#find all DOIs for seeds of size 1-3 for various GTNs\n",
    "#sample if there are more than 1000 possibilities of seeds (note there are 2n state nodes)\n",
    "#NOTE: this will run slowly if given a large network and large sample sizes\n",
    "\n",
    "network=n\n",
    "ltn,dtn,stn=ltn1,dtn1,stn1 #change to match network desired\n",
    "num=3 #seed sizes to try\n",
    "doi_lut,doi_dnf,doi_sr={},{},{} \n",
    "snode_names=get_sunit_names(network) #possible state nodes\n",
    "\n",
    "for i in range(1,num+1):\n",
    "    print(i)\n",
    "    if i==1 or i==2: seeds=None #find all possible seeds\n",
    "    if i==3: seeds=get_sample(snode_names,num=i,samples=1000) #get 1000 unique samples\n",
    "    \n",
    "    #LUT\n",
    "    start_time = time.time()\n",
    "    nu,tm,sizes,c=find_dynamic_modules(ltn,input_type='steady',num=i,samples=None,tm=False,seeds=seeds,conversion=False)\n",
    "    print('LUT GTN average time per seed set: '+str((time.time()-start_time)/len(nu)))\n",
    "    for seed in nu: doi_lut[seed]=extract_sunits(nu[seed])\n",
    "    \n",
    "    #DNF\n",
    "    seeds={seed for seed in doi_lut if len(seed)==i}\n",
    "    seeds_ascii=convert_seeds_ascii(seeds,name=network.name) #convert to alternate node names if necessary\n",
    "    start_time = time.time()\n",
    "    nu,tm,sizes,c=find_dynamic_modules(dtn,input_type='steady',num=i,samples=None,tm=False,seeds=seeds_ascii,conversion=False)\n",
    "    print('DNF GTN average time per seed set: '+str((time.time()-start_time)/len(nu)))\n",
    "    for seed in nu: doi_dnf[seed]=extract_sunits(nu[seed])\n",
    "    doi_dnf=convert_seeds_standard(doi_dnf,name=network.name) #change DNF DOI names back to standard names if necessary\n",
    "    \n",
    "    #SR\n",
    "    start_time = time.time()\n",
    "    nu,tm,sizes,c=find_dynamic_modules(stn,input_type='steady',num=i,samples=None,tm=False,seeds=seeds,conversion=False)\n",
    "    print('SR GTN average time per seed set: '+str((time.time()-start_time)/len(nu)))\n",
    "    for seed in nu: doi_sr[seed]=extract_sunits(nu[seed])\n",
    "    \n",
    "    print('num seed sets: '+str(len(nu)))\n",
    "    \n",
    "len(doi_lut),len(doi_dnf),len(doi_sr)"
   ]
  },
  {
   "cell_type": "code",
   "execution_count": 17,
   "metadata": {
    "scrolled": true
   },
   "outputs": [
    {
     "name": "stdout",
     "output_type": "stream",
     "text": [
      "['en-1']\n",
      " SR: 9, DNF: 9, LUT: 4\n",
      "['EN-1']\n",
      " SR: 8, DNF: 8, LUT: 3\n",
      "['nWG-0']\n",
      " SR: 7, DNF: 7, LUT: 1\n",
      "['SLP-1']\n",
      " SR: 7, DNF: 7, LUT: 1\n",
      "['CIR-1']\n",
      " SR: 6, DNF: 6, LUT: 1\n",
      "['en-0']\n",
      " SR: 6, DNF: 6, LUT: 4\n",
      "['ci-0']\n",
      " SR: 5, DNF: 5, LUT: 2\n",
      "['EN-0']\n",
      " SR: 5, DNF: 5, LUT: 3\n",
      "['PTC-0']\n",
      " SR: 4, DNF: 4, LUT: 1\n",
      "['CI-0']\n",
      " SR: 4, DNF: 4, LUT: 1\n",
      "['nhhnHH-1']\n",
      " SR: 3, DNF: 3, LUT: 1\n",
      "['ci-1']\n",
      " SR: 2, DNF: 2, LUT: 2\n",
      "['CIA-0']\n",
      " SR: 2, DNF: 2, LUT: 1\n",
      "['hh-1']\n",
      " SR: 2, DNF: 2, LUT: 2\n",
      "['ptc-1']\n",
      " SR: 2, DNF: 2, LUT: 1\n",
      "['wg-1']\n",
      " SR: 2, DNF: 2, LUT: 2\n",
      "['wg-0']\n",
      " SR: 2, DNF: 2, LUT: 2\n",
      "['nhhnHH-0']\n",
      " SR: 2, DNF: 2, LUT: 1\n",
      "['hh-0']\n",
      " SR: 2, DNF: 2, LUT: 2\n",
      "['WG-1']\n",
      " SR: 1, DNF: 1, LUT: 1\n",
      "['CIA-1']\n",
      " SR: 1, DNF: 1, LUT: 1\n",
      "['PTC-1']\n",
      " SR: 1, DNF: 1, LUT: 1\n",
      "['ptc-0']\n",
      " SR: 1, DNF: 1, LUT: 1\n",
      "['PH-1']\n",
      " SR: 1, DNF: 1, LUT: 1\n",
      "['SMO-0']\n",
      " SR: 1, DNF: 1, LUT: 1\n",
      "['SLP-0']\n",
      " SR: 1, DNF: 1, LUT: 1\n",
      "['HH-0']\n",
      " SR: 1, DNF: 1, LUT: 1\n",
      "['WG-0']\n",
      " SR: 1, DNF: 1, LUT: 1\n",
      "['HH-1']\n",
      " SR: 1, DNF: 1, LUT: 1\n",
      "['SMO-1']\n",
      " SR: 1, DNF: 1, LUT: 1\n",
      "['CI-1']\n",
      " SR: 1, DNF: 1, LUT: 1\n",
      "['PH-0']\n",
      " SR: 1, DNF: 1, LUT: 1\n",
      "['CIR-0']\n",
      " SR: 1, DNF: 1, LUT: 1\n",
      "['nWG-1']\n",
      " SR: 1, DNF: 1, LUT: 1\n",
      "(2.7941176470588234, 2.7941176470588234, 1.4705882352941178)\n"
     ]
    }
   ],
   "source": [
    "#compare DOIs for various GTNs\n",
    "num=1\n",
    "for seed in sorted(doi_sr,key=lambda x: len(doi_sr[x]),reverse=True): #sort by SR since these should be longest\n",
    "    if len(seed)==num: \n",
    "        print([m for m in seed])\n",
    "        #print(\" SR: {}\\n DNF: {}\\n LUT: {}\".format(doi_sr[seed],doi_dnf[seed],doi_lut[seed])) #see composition of DOIs\n",
    "        print(\" SR: {}, DNF: {}, LUT: {}\".format(len(doi_sr[seed]),len(doi_dnf[seed]),len(doi_lut[seed]))) #see size of DOIs\n",
    "avg_sr=np.mean([len(doi_sr[seed]) for seed in doi_sr if len(seed)==num])\n",
    "avg_dnf=np.mean([len(doi_dnf[seed]) for seed in doi_sr if len(seed)==num])\n",
    "avg_lut=np.mean([len(doi_lut[seed]) for seed in doi_sr if len(seed)==num])\n",
    "print(avg_sr,avg_dnf,avg_lut)"
   ]
  },
  {
   "cell_type": "code",
   "execution_count": 18,
   "metadata": {},
   "outputs": [
    {
     "name": "stdout",
     "output_type": "stream",
     "text": [
      "IBMFA average time per seed set: 0.112205884036\n",
      "num seed sets: 34\n",
      "IBMFA average time per seed set: 0.105068014825\n",
      "num seed sets: 544\n",
      "IBMFA average time per seed set: 0.0979869999886\n",
      "num seed sets: 1000\n"
     ]
    }
   ],
   "source": [
    "#find all DOIs for seeds of size 1-3 for the IBMFA (individual based mean-field approximation)\n",
    "num=3\n",
    "iterations=10 #number of times to iterate the network\n",
    "snodes,snode_map=get_sunits(network)\n",
    "dn={node.name: LUT_reduce(look_up_table(node)) for node in network.nodes}\n",
    "act_prob,translator={},{}\n",
    "doi_mf={}\n",
    "\n",
    "for i in range(1,num+1):\n",
    "    seeds=[set_to_tuple(seed,snode_map) for seed in doi_lut if len(seed)==i]\n",
    "    num_seeds=len(seeds)\n",
    "    start_time = time.time()\n",
    "    act_prob,translator=find_modules(network,i,snodes,snode_map,act_prob,translator,reduced=True,ds=dn,samples=None,seeds=seeds,\n",
    "        pinning={},iterations=iterations,data=True,pin_start=True,update='synchronous',regenerate=False,models=1,verbose=False)\n",
    "    print('IBMFA average time per seed set: '+str((time.time()-start_time)/num_seeds))\n",
    "    for seed in act_prob: \n",
    "        doi_mf[frozenset(to_list(seed,snode_map,translator))]={s for t in act_prob[seed] for s in return_constants(act_prob[seed][t])}\n",
    "\n",
    "    print('num seed sets: '+str(num_seeds))"
   ]
  },
  {
   "cell_type": "code",
   "execution_count": 19,
   "metadata": {},
   "outputs": [
    {
     "name": "stdout",
     "output_type": "stream",
     "text": [
      "Ground-truth average time per seed set: 0.102735295015\n",
      "num seed sets: 34\n",
      "Ground-truth average time per seed set: 0.102047794005\n",
      "num seed sets: 544\n",
      "Ground-truth average time per seed set: 0.110454999924\n",
      "num seed sets: 1000\n"
     ]
    }
   ],
   "source": [
    "#find the GROUND-TRUTH DOIs for seeds of size 1-3 for a network based on r=100 simulations of each seed\n",
    "num=3\n",
    "r=100 #number of simulations per seed\n",
    "iterations=10 #number of times to iterate the network\n",
    "doi_gt={}\n",
    "\n",
    "for i in range(1,num+1):\n",
    "    \n",
    "    seeds=[set_to_tuple(seed,snode_map) for seed in doi_lut if len(seed)==i]\n",
    "    num_seeds=len(seeds)\n",
    "    start_time = time.time()\n",
    "    simulations,act_prob_sim=create_simulations(network,seeds,snode_map,translator,length=i,runs=r,\n",
    "            iterations=iterations,unknown_prob=0.5,time_limit=iterations+2,act_prob_sim={},simulations={})\n",
    "    print('Ground-truth average time per seed set: '+str((time.time()-start_time)/num_seeds))\n",
    "    constants=constants_from_sim(act_prob_sim,snode_map,translator,t=iterations)\n",
    "    for seed in constants: doi_gt[seed]=constants[seed]\n",
    "    \n",
    "    print('num seed sets: '+str(num_seeds))"
   ]
  },
  {
   "cell_type": "code",
   "execution_count": 20,
   "metadata": {
    "scrolled": true
   },
   "outputs": [
    {
     "name": "stdout",
     "output_type": "stream",
     "text": [
      "comparing LUT with LUT\n",
      "1.0\n",
      "comparing LUT with DNF\n",
      "0.74328898226\n",
      "comparing LUT with SR\n",
      "0.74328898226\n",
      "comparing LUT with MF\n",
      "0.74328898226\n",
      "comparing LUT with GT\n",
      "0.68081232493\n",
      "comparing DNF with LUT\n",
      "0.74328898226\n",
      "comparing DNF with DNF\n",
      "1.0\n",
      "comparing DNF with SR\n",
      "1.0\n",
      "comparing DNF with MF\n",
      "1.0\n",
      "comparing DNF with GT\n",
      "0.898622782446\n",
      "comparing SR with LUT\n",
      "0.74328898226\n",
      "comparing SR with DNF\n",
      "1.0\n",
      "comparing SR with SR\n",
      "1.0\n",
      "comparing SR with MF\n",
      "1.0\n",
      "comparing SR with GT\n",
      "0.898622782446\n",
      "comparing MF with LUT\n",
      "0.74328898226\n",
      "comparing MF with DNF\n",
      "1.0\n",
      "comparing MF with SR\n",
      "1.0\n",
      "comparing MF with MF\n",
      "1.0\n",
      "comparing MF with GT\n",
      "0.898622782446\n",
      "comparing GT with LUT\n",
      "0.68081232493\n",
      "comparing GT with DNF\n",
      "0.898622782446\n",
      "comparing GT with SR\n",
      "0.898622782446\n",
      "comparing GT with MF\n",
      "0.898622782446\n",
      "comparing GT with GT\n",
      "1.0\n",
      "34 total seed sets\n"
     ]
    }
   ],
   "source": [
    "#compare DOIs - similarity between methods\n",
    "num=1\n",
    "labels=['LUT','DNF','SR','MF','GT']\n",
    "for i,d1 in enumerate([doi_lut,doi_dnf,doi_sr,doi_mf,doi_gt]):\n",
    "    for j,d2 in enumerate([doi_lut,doi_dnf,doi_sr,doi_mf,doi_gt]):\n",
    "        print(\"comparing {} with {}\".format(labels[i],labels[j]))\n",
    "        ji=0.0\n",
    "        total=0\n",
    "        for seed in doi_lut:\n",
    "            if len(seed)!=num: continue #set to break down by seed set size, comment out to average across seed set sizes\n",
    "            total+=1\n",
    "            try: set1=extract_sunits(d1[seed])\n",
    "            except: set1=d1[seed]\n",
    "            try: set2=extract_sunits(d2[seed])\n",
    "            except: set2=d2[seed]\n",
    "            #print(set1,set2)\n",
    "            ji+=compute_jaccard(set1,set2)\n",
    "            #print(seed, compute_jaccard(set1,set2))\n",
    "\n",
    "        print(ji/total)\n",
    "print(str(total)+\" total seed sets\")"
   ]
  },
  {
   "cell_type": "code",
   "execution_count": 21,
   "metadata": {},
   "outputs": [],
   "source": [
    "#find average DOI sizes\n",
    "avg_sr=[np.mean([len(doi_sr[seed]) for seed in doi_sr if len(seed)==i]) for i in range(1,4)]\n",
    "avg_dnf=[np.mean([len(doi_dnf[seed]) for seed in doi_sr if len(seed)==i])  for i in range(1,4)]\n",
    "avg_lut=[np.mean([len(doi_lut[seed]) for seed in doi_sr if len(seed)==i]) for i in range(1,4)]\n",
    "avg_mf=[np.mean([len(doi_mf[seed]) for seed in doi_sr if len(seed)==i]) for i in range(1,4)]\n",
    "avg_gt=[np.mean([len(doi_gt[seed]) for seed in doi_sr if len(seed)==i]) for i in range(1,4)]"
   ]
  },
  {
   "cell_type": "code",
   "execution_count": 22,
   "metadata": {},
   "outputs": [
    {
     "data": {
      "text/plain": [
       "<matplotlib.legend.Legend at 0x13610388>"
      ]
     },
     "execution_count": 22,
     "metadata": {},
     "output_type": "execute_result"
    },
    {
     "data": {
      "image/png": "[encoded data removed]",
      "text/plain": [
       "<Figure size 720x360 with 1 Axes>"
      ]
     },
     "metadata": {
      "needs_background": "light"
     },
     "output_type": "display_data"
    }
   ],
   "source": [
    "#compare DOIs - plot average DOI sizes\n",
    "xvalues=[1,2,3]\n",
    "width=0.1\n",
    "plt.figure(figsize=(10,5))\n",
    "\n",
    "plt.bar([x-2*width-.02 for x in xvalues],avg_lut,label='LUT',width=width)\n",
    "plt.bar([x-width-.01 for x in xvalues],avg_dnf,label='DNF',width=width)\n",
    "plt.bar([x for x in xvalues],avg_sr,label='SR',width=width)\n",
    "plt.bar([x+width+.01 for x in xvalues],avg_mf,label='MF',width=width)\n",
    "plt.bar([x+2*width+.02 for x in xvalues],avg_gt,label='GT',width=width)\n",
    "plt.xticks([1,2,3],[1,2,3],fontsize=16)\n",
    "plt.yticks(fontsize=16)\n",
    "plt.xlabel(\"seed set size\",fontsize=18)\n",
    "plt.ylabel(\"avg. DOI size\",fontsize=18)\n",
    "plt.legend(fontsize=18)"
   ]
  },
  {
   "cell_type": "code",
   "execution_count": 23,
   "metadata": {},
   "outputs": [],
   "source": [
    "#find average DOI stats\n",
    "all_stats={label:{num:{}} for label in labels}"
   ]
  },
  {
   "cell_type": "code",
   "execution_count": 26,
   "metadata": {},
   "outputs": [
    {
     "name": "stdout",
     "output_type": "stream",
     "text": [
      "comparing LUT with ground-truth\n",
      "comparing DNF with ground-truth\n",
      "comparing SR with ground-truth\n",
      "comparing MF with ground-truth\n",
      "comparing GT with ground-truth\n",
      "1000 total seed sets\n"
     ]
    }
   ],
   "source": [
    "#find stats per seed set size\n",
    "num=3\n",
    "num_snodes=2*len(network.nodes) #number of state nodes\n",
    "labels=['LUT','DNF','SR','MF','GT']\n",
    "for i,d1 in enumerate([doi_lut,doi_dnf,doi_sr,doi_mf,doi_gt]):\n",
    "    print(\"comparing {} with {}\".format(labels[i],'ground-truth'))\n",
    "    dstats={'tps':0.0,'fns':0.0,'fps':0.0,'tns':0.0,'avg_sim':0.0,'accuracy':0.0,'errors':0.0,'recall':0.0,'precision':0.0}\n",
    "    total=0\n",
    "    for seed in doi_lut:\n",
    "        if len(seed)!=num: continue #set to break down by seed set size, comment out to average across seed set sizes\n",
    "        total+=1\n",
    "        try: set1=extract_sunits(d1[seed])\n",
    "        except: set1=d1[seed]\n",
    "        set2=doi_gt[seed]\n",
    "        stats=compute_stats_constants(set1,set2,num_snodes)\n",
    "        for key in stats: dstats[key]+=stats[key]\n",
    "    dstats={key:dstats[key]/total for key in dstats}\n",
    "    #print_stats(dstats)\n",
    "    all_stats[labels[i]][num]=dstats\n",
    "print(str(total)+\" total seed sets\")"
   ]
  },
  {
   "cell_type": "code",
   "execution_count": 27,
   "metadata": {},
   "outputs": [],
   "source": [
    "#similarity\n",
    "simLUT=[all_stats['LUT'][i]['avg_sim'] for i in range(1,4)]\n",
    "simDNF=[all_stats['DNF'][i]['avg_sim'] for i in range(1,4)]\n",
    "simSR=[all_stats['SR'][i]['avg_sim'] for i in range(1,4)]\n",
    "simMF=[all_stats['MF'][i]['avg_sim'] for i in range(1,4)]\n",
    "#recall\n",
    "recLUT=[all_stats['LUT'][i]['recall'] for i in range(1,4)]\n",
    "recDNF=[all_stats['DNF'][i]['recall'] for i in range(1,4)]\n",
    "recSR=[all_stats['SR'][i]['recall'] for i in range(1,4)]\n",
    "recMF=[all_stats['MF'][i]['recall'] for i in range(1,4)]\n",
    "#precision\n",
    "precLUT=[all_stats['LUT'][i]['precision'] for i in range(1,4)]\n",
    "precDNF=[all_stats['DNF'][i]['precision'] for i in range(1,4)]\n",
    "precSR=[all_stats['SR'][i]['precision'] for i in range(1,4)]\n",
    "precMF=[all_stats['MF'][i]['precision'] for i in range(1,4)]"
   ]
  },
  {
   "cell_type": "code",
   "execution_count": 28,
   "metadata": {},
   "outputs": [
    {
     "data": {
      "image/png": "[encoded data removed]",
      "text/plain": [
       "<Figure size 720x360 with 1 Axes>"
      ]
     },
     "metadata": {
      "needs_background": "light"
     },
     "output_type": "display_data"
    },
    {
     "data": {
      "image/png": "[encoded data removed]",
      "text/plain": [
       "<Figure size 720x360 with 1 Axes>"
      ]
     },
     "metadata": {
      "needs_background": "light"
     },
     "output_type": "display_data"
    },
    {
     "data": {
      "image/png": "[encoded data removed]",
      "text/plain": [
       "<Figure size 720x360 with 1 Axes>"
      ]
     },
     "metadata": {
      "needs_background": "light"
     },
     "output_type": "display_data"
    }
   ],
   "source": [
    "#compare DOIs - plot similarity, recall and precision\n",
    "xvalues=[1,2,3]\n",
    "width=0.15\n",
    "\n",
    "for i,key in enumerate(['sim','rec','prec']):\n",
    "    plt.figure(figsize=(10,5))\n",
    "    plt.bar([x-2*width-.02 for x in xvalues],eval(key+'LUT'),label='LUT',width=width)\n",
    "    plt.bar([x-width-.01 for x in xvalues],eval(key+'DNF'),label='DNF',width=width)\n",
    "    plt.bar([x for x in xvalues],eval(key+'SR'),label='SR',width=width)\n",
    "    plt.bar([x+width+.01 for x in xvalues],eval(key+'MF'),label='MF',width=width)\n",
    "    plt.bar([x+2*width+.02 for x in xvalues],[1,1,1],label='GT',width=width)\n",
    "    plt.xticks([1,2,3],[1,2,3],fontsize=16)\n",
    "    plt.yticks(fontsize=16)\n",
    "    plt.xlabel(\"seed set size\",fontsize=18)\n",
    "    plt.ylabel(key,fontsize=18)\n",
    "    if i==0: plt.legend(fontsize=16,framealpha=0.5,bbox_to_anchor=(0.18, 0.52))\n",
    "    plt.show()"
   ]
  },
  {
   "cell_type": "code",
   "execution_count": null,
   "metadata": {},
   "outputs": [],
   "source": []
  }
 ],
 "metadata": {
  "kernelspec": {
   "display_name": "Python 2",
   "language": "python",
   "name": "python2"
  },
  "language_info": {
   "codemirror_mode": {
    "name": "ipython",
    "version": 2
   },
   "file_extension": ".py",
   "mimetype": "text/x-python",
   "name": "python",
   "nbconvert_exporter": "python",
   "pygments_lexer": "ipython2",
   "version": "2.7.18"
  }
 },
 "nbformat": 4,
 "nbformat_minor": 2
}
